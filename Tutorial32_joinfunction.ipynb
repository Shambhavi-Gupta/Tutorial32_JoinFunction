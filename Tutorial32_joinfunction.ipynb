{
  "nbformat": 4,
  "nbformat_minor": 0,
  "metadata": {
    "colab": {
      "name": "Tutorial32_joinfunction.ipynb",
      "provenance": [],
      "authorship_tag": "ABX9TyOEFOuTo2T5HikGNxupEsqr",
      "include_colab_link": true
    },
    "kernelspec": {
      "name": "python3",
      "display_name": "Python 3"
    }
  },
  "cells": [
    {
      "cell_type": "markdown",
      "metadata": {
        "id": "view-in-github",
        "colab_type": "text"
      },
      "source": [
        "<a href=\"https://colab.research.google.com/github/Shambhavi-Gupta/Tutorial32_JoinFunction/blob/main/Tutorial32_joinfunction.ipynb\" target=\"_parent\"><img src=\"https://colab.research.google.com/assets/colab-badge.svg\" alt=\"Open In Colab\"/></a>"
      ]
    },
    {
      "cell_type": "code",
      "metadata": {
        "id": "J_bYPvQDIDM0"
      },
      "source": [
        "list1 = [\"Doremon\",\"Shizuka\",\"Nobita\",\"Giyan\",\r\n",
        "         \"Suniyo\"]\r\n",
        "#for item in list1 :\r\n",
        "#    print(item, \"and\" , end=\" \")\r\n",
        "\r\n",
        "s = \" , \".join(list1)    #can use \" , \"\r\n",
        "print(s, \"one left I don't remember the name\")\r\n",
        "#print(list1)"
      ],
      "execution_count": null,
      "outputs": []
    }
  ]
}